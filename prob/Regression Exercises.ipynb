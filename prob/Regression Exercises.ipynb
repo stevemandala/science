{
 "cells": [
  {
   "cell_type": "code",
   "execution_count": 34,
   "metadata": {},
   "outputs": [],
   "source": [
    "import numpy as np\n",
    "import random"
   ]
  },
  {
   "cell_type": "code",
   "execution_count": 93,
   "metadata": {},
   "outputs": [
    {
     "name": "stdout",
     "output_type": "stream",
     "text": [
      "[[13.45014497]]\n"
     ]
    }
   ],
   "source": [
    "# Generate a linear model with homoscedastic noise\n",
    "dim = 1\n",
    "std = 10\n",
    "\n",
    "A = 100*np.random.rand(1,dim)\n",
    "b = 5\n",
    "\n",
    "print(A)"
   ]
  },
  {
   "cell_type": "code",
   "execution_count": 156,
   "metadata": {},
   "outputs": [],
   "source": [
    "# Generate samples\n",
    "n_samples = 5 #100\n",
    "\n",
    "xs = np.random.rand(dim,n_samples)\n",
    "ys = np.transpose(A.dot(xs) + b) + np.random.normal(0, std, (n_samples, 1))\n",
    "\n",
    "# Construct data matrix\n",
    "X = np.ones((n_samples, dim + 1))\n",
    "X[:,:-1] = np.transpose(xs)"
   ]
  },
  {
   "cell_type": "markdown",
   "metadata": {},
   "source": [
    "# OLS"
   ]
  },
  {
   "cell_type": "markdown",
   "metadata": {},
   "source": [
    "min (Xt*A - b) = At.X.Xt.A - 2 bt.Xt*A +btb -> XXt.A - btXt"
   ]
  },
  {
   "cell_type": "code",
   "execution_count": 112,
   "metadata": {},
   "outputs": [
    {
     "data": {
      "text/plain": [
       "array([[28.7847762 ],\n",
       "       [-5.06681681]])"
      ]
     },
     "execution_count": 112,
     "metadata": {},
     "output_type": "execute_result"
    }
   ],
   "source": [
    "# OLS formula\n",
    "Xt = np.transpose(X)\n",
    "\n",
    "A_est = np.dot(np.linalg.inv(np.dot(Xt, X)), np.dot(Xt, ys))\n",
    "A_est"
   ]
  },
  {
   "cell_type": "code",
   "execution_count": 113,
   "metadata": {},
   "outputs": [
    {
     "data": {
      "image/png": "[encoded data removed]",
      "text/plain": [
       "<Figure size 432x288 with 1 Axes>"
      ]
     },
     "metadata": {
      "needs_background": "light"
     },
     "output_type": "display_data"
    }
   ],
   "source": [
    "import matplotlib.pyplot as plt\n",
    "fig = plt.figure()\n",
    "ax = fig.add_subplot(1, 1, 1)\n",
    "ax.scatter(xs, ys)\n",
    "ax.plot(xs.flatten(), (A_est[0,0]*xs + A_est[1, 0]).flatten())\n",
    "plt.show()"
   ]
  },
  {
   "cell_type": "markdown",
   "metadata": {},
   "source": [
    "# MAP"
   ]
  },
  {
   "cell_type": "code",
   "execution_count": 169,
   "metadata": {},
   "outputs": [
    {
     "data": {
      "text/plain": [
       "array([[13.57120191],\n",
       "       [ 4.48894037]])"
      ]
     },
     "execution_count": 169,
     "metadata": {},
     "output_type": "execute_result"
    }
   ],
   "source": [
    "# Ridge regression\n",
    "l = 10.0\n",
    "\n",
    "# Add l*mu_0 to the right handfor a non-zero bias term on A_est\n",
    "A_est = np.dot(np.linalg.inv(Xt.dot(X) + l*np.identity(dim+1)), (np.dot(Xt, ys))) \n",
    "A_est"
   ]
  },
  {
   "cell_type": "markdown",
   "metadata": {},
   "source": [
    "# Bayesian Linear Regression"
   ]
  },
  {
   "cell_type": "code",
   "execution_count": null,
   "metadata": {},
   "outputs": [],
   "source": []
  }
 ],
 "metadata": {
  "kernelspec": {
   "display_name": "Python 3",
   "language": "python",
   "name": "python3"
  },
  "language_info": {
   "codemirror_mode": {
    "name": "ipython",
    "version": 3
   },
   "file_extension": ".py",
   "mimetype": "text/x-python",
   "name": "python",
   "nbconvert_exporter": "python",
   "pygments_lexer": "ipython3",
   "version": "3.7.4"
  }
 },
 "nbformat": 4,
 "nbformat_minor": 2
}
